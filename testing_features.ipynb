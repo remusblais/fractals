{
 "cells": [
  {
   "cell_type": "code",
   "execution_count": 133,
   "metadata": {},
   "outputs": [],
   "source": [
    "a = np.random.randint(0, 60, size=(500, 500), dtype=np.int64)"
   ]
  },
  {
   "cell_type": "code",
   "execution_count": 134,
   "metadata": {},
   "outputs": [
    {
     "name": "stdout",
     "output_type": "stream",
     "text": [
      "11.7 ms ± 247 µs per loop (mean ± std. dev. of 7 runs, 100 loops each)\n"
     ]
    }
   ],
   "source": [
    "%timeit np.unique(a).size"
   ]
  },
  {
   "cell_type": "code",
   "execution_count": 135,
   "metadata": {},
   "outputs": [
    {
     "name": "stdout",
     "output_type": "stream",
     "text": [
      "589 µs ± 39.5 µs per loop (mean ± std. dev. of 7 runs, 1000 loops each)\n"
     ]
    }
   ],
   "source": [
    "%timeit faster_unique(a, 60)"
   ]
  },
  {
   "cell_type": "code",
   "execution_count": 136,
   "metadata": {},
   "outputs": [
    {
     "data": {
      "text/plain": [
       "19.864176570458405"
      ]
     },
     "execution_count": 136,
     "metadata": {},
     "output_type": "execute_result"
    }
   ],
   "source": [
    "11.7e-3/589e-6"
   ]
  },
  {
   "cell_type": "markdown",
   "metadata": {},
   "source": [
    "## Algorithm for identying interesting region of image\n",
    "This is still not working perfectly."
   ]
  },
  {
   "cell_type": "code",
   "execution_count": 3,
   "metadata": {},
   "outputs": [],
   "source": [
    "import numpy as np\n",
    "import matplotlib.pyplot as plt"
   ]
  },
  {
   "cell_type": "code",
   "execution_count": 91,
   "metadata": {},
   "outputs": [],
   "source": [
    "images = np.array([\n",
    "    np.zeros((4,4)),\n",
    "    np.ones((4,4)),\n",
    "    np.linspace(0, 1, 16).reshape(4,4),\n",
    "    np.tile(np.arange(0, 1, 0.25), (4, 1)),\n",
    "    np.sum(np.ogrid[0:1:4j, 0:1:4j])/2,\n",
    "    np.tile(np.array([0,0,1,1]), (4, 1)),\n",
    "    np.random.random((4,4))])"
   ]
  },
  {
   "cell_type": "code",
   "execution_count": 92,
   "metadata": {},
   "outputs": [
    {
     "name": "stdout",
     "output_type": "stream",
     "text": [
      "0 [[0. 0. 0. 0.]\n",
      " [0. 0. 0. 0.]\n",
      " [0. 0. 0. 0.]\n",
      " [0. 0. 0. 0.]]\n",
      "1 [[1. 1. 1. 1.]\n",
      " [1. 1. 1. 1.]\n",
      " [1. 1. 1. 1.]\n",
      " [1. 1. 1. 1.]]\n",
      "2 [[0.         0.06666667 0.13333333 0.2       ]\n",
      " [0.26666667 0.33333333 0.4        0.46666667]\n",
      " [0.53333333 0.6        0.66666667 0.73333333]\n",
      " [0.8        0.86666667 0.93333333 1.        ]]\n",
      "3 [[0.   0.25 0.5  0.75]\n",
      " [0.   0.25 0.5  0.75]\n",
      " [0.   0.25 0.5  0.75]\n",
      " [0.   0.25 0.5  0.75]]\n",
      "4 [[0.         0.16666667 0.33333333 0.5       ]\n",
      " [0.16666667 0.33333333 0.5        0.66666667]\n",
      " [0.33333333 0.5        0.66666667 0.83333333]\n",
      " [0.5        0.66666667 0.83333333 1.        ]]\n",
      "5 [[0. 0. 1. 1.]\n",
      " [0. 0. 1. 1.]\n",
      " [0. 0. 1. 1.]\n",
      " [0. 0. 1. 1.]]\n",
      "6 [[0.80101095 0.65035495 0.89928981 0.15423918]\n",
      " [0.8000427  0.40891464 0.03001868 0.55854758]\n",
      " [0.40783813 0.62426619 0.22316077 0.26957658]\n",
      " [0.63190612 0.4040369  0.70741498 0.26093467]]\n"
     ]
    }
   ],
   "source": [
    "for i, im in enumerate(images):\n",
    "    print(i, im)"
   ]
  },
  {
   "cell_type": "code",
   "execution_count": 93,
   "metadata": {},
   "outputs": [
    {
     "data": {
      "image/png": "[encoded data removed]",
      "text/plain": [
       "<Figure size 1008x144 with 7 Axes>"
      ]
     },
     "metadata": {
      "needs_background": "light"
     },
     "output_type": "display_data"
    }
   ],
   "source": [
    "plot_kwargs = {'extent': (0, 1, 0, 1), 'origin':'lower', 'vmin':0, 'vmax':1}\n",
    "fig, axes = plt.subplots(nrows=1, ncols=images.shape[0], figsize=(images.shape[0]*2, 2))\n",
    "for image, ax in zip(images, axes):\n",
    "    im = ax.imshow(image, **plot_kwargs)\n",
    "fig.tight_layout()"
   ]
  },
  {
   "cell_type": "code",
   "execution_count": 126,
   "metadata": {},
   "outputs": [],
   "source": [
    "def faster_unique(array: np.ndarray, max_val) -> np.int64:\n",
    "    unique_vals = np.zeros(max_val, dtype=np.uint8)\n",
    "    unique_vals[array.ravel()] = 1\n",
    "    return unique_vals.sum()\n",
    "\n",
    "def new_variance(array: np.ndarray) -> np.float64:\n",
    "    vertical = np.diff(array, axis=0)\n",
    "    horizontal = np.diff(array, axis=1)\n",
    "    return faster_unique(vertical) + faster_unique(horizontal)"
   ]
  },
  {
   "cell_type": "code",
   "execution_count": 127,
   "metadata": {},
   "outputs": [
    {
     "data": {
      "text/plain": [
       "5000"
      ]
     },
     "execution_count": 127,
     "metadata": {},
     "output_type": "execute_result"
    }
   ],
   "source": [
    "faster_unique(np.random.randint(0, 5000, size=(500, 500)), max_val=5000)"
   ]
  },
  {
   "cell_type": "code",
   "execution_count": 122,
   "metadata": {},
   "outputs": [
    {
     "data": {
      "text/plain": [
       "155"
      ]
     },
     "execution_count": 122,
     "metadata": {},
     "output_type": "execute_result"
    }
   ],
   "source": [
    "5000%255"
   ]
  },
  {
   "cell_type": "code",
   "execution_count": 117,
   "metadata": {},
   "outputs": [
    {
     "data": {
      "text/plain": [
       "array([[3460, 1455,  649, ..., 3198, 3189, 2863],\n",
       "       [4769,  682, 3463, ..., 2618, 2170,  519],\n",
       "       [1428, 1345, 3385, ..., 3643, 4413, 3024],\n",
       "       ...,\n",
       "       [1870, 2759, 1893, ..., 2427, 4217, 3429],\n",
       "       [3635, 3043, 4071, ..., 4290,  588, 2822],\n",
       "       [4559, 3021,   80, ..., 4799, 1121,  426]])"
      ]
     },
     "execution_count": 117,
     "metadata": {},
     "output_type": "execute_result"
    }
   ],
   "source": [
    "np.random.randint(0, 5000, size=(500, 500))"
   ]
  },
  {
   "cell_type": "code",
   "execution_count": 99,
   "metadata": {},
   "outputs": [
    {
     "name": "stdout",
     "output_type": "stream",
     "text": [
      "2\n",
      "2\n",
      "7\n",
      "2\n",
      "8\n",
      "3\n",
      "24\n"
     ]
    }
   ],
   "source": [
    "# axis=1: left-right; axis=0: up-down\n",
    "print(*[new_variance(im) for im in images], sep='\\n')"
   ]
  },
  {
   "cell_type": "code",
   "execution_count": 22,
   "metadata": {},
   "outputs": [
    {
     "data": {
      "text/plain": [
       "array([[-0.08281315,  0.84883792,  0.17287069,  0.58275441],\n",
       "       [ 0.31580842, -0.86144437, -0.47014843, -0.31707098],\n",
       "       [-0.3253609 ,  0.65501526,  0.53002356,  0.25371901]])"
      ]
     },
     "execution_count": 22,
     "metadata": {},
     "output_type": "execute_result"
    }
   ],
   "source": [
    "np.diff(b, axis=0)"
   ]
  },
  {
   "cell_type": "code",
   "execution_count": null,
   "metadata": {},
   "outputs": [],
   "source": [
    "c = np.arange(0, )"
   ]
  }
 ],
 "metadata": {
  "kernelspec": {
   "display_name": "Python 3",
   "language": "python",
   "name": "python3"
  },
  "language_info": {
   "codemirror_mode": {
    "name": "ipython",
    "version": 3
   },
   "file_extension": ".py",
   "mimetype": "text/x-python",
   "name": "python",
   "nbconvert_exporter": "python",
   "pygments_lexer": "ipython3",
   "version": "3.7.4"
  }
 },
 "nbformat": 4,
 "nbformat_minor": 1
}
